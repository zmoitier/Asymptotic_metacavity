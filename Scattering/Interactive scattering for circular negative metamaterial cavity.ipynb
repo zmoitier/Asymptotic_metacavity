{
 "cells": [
  {
   "cell_type": "markdown",
   "id": "treated-cartridge",
   "metadata": {},
   "source": [
    "# Scattering for a circular metamaterial cavity\n",
    "\n",
    "The codes below are associated to the article:\n",
    "\n",
    "- C. Carvalho and Z. Moitier, _Asymptotics for metamaterial cavities and their effect on scattering_ [[arXiv](https://arxiv.org/abs/2010.07583), [HAL](https://hal.archives-ouvertes.fr/hal-02965993)]\n",
    "\n",
    "We present computations related to Section 3 of the manuscript.\n",
    "\n",
    "## Zoïs Moitier, Camille Carvalho (2021)\n",
    "            \n",
    "_Karlsruhe Institute of Technology, Germany_\n",
    "\n",
    "_University of California Merced, USA_"
   ]
  },
  {
   "cell_type": "code",
   "execution_count": 1,
   "id": "alternative-rider",
   "metadata": {},
   "outputs": [],
   "source": [
    "from sys import argv\n",
    "\n",
    "import matplotlib.pyplot as plt\n",
    "import numpy as np\n",
    "from matplotlib.ticker import FuncFormatter\n",
    "\n",
    "from latex_plot import set_rcParams, set_size\n",
    "from zNumeric import *"
   ]
  },
  {
   "cell_type": "code",
   "execution_count": 14,
   "id": "arbitrary-smile",
   "metadata": {},
   "outputs": [
    {
     "name": "stdout",
     "output_type": "stream",
     "text": [
      "[ 1  2  3  4  5  6  7  8  9 10 11 12]\n"
     ]
    }
   ],
   "source": [
    "mrange = np.linspace(1,12,12, dtype=int)\n",
    "print(mrange)"
   ]
  },
  {
   "cell_type": "code",
   "execution_count": 16,
   "id": "looking-transportation",
   "metadata": {},
   "outputs": [
    {
     "data": {
      "application/vnd.jupyter.widget-view+json": {
       "model_id": "a0acfb9708a24128afb4f8a2d43fc208",
       "version_major": 2,
       "version_minor": 0
      },
      "text/plain": [
       "interactive(children=(IntSlider(value=6, description='m', max=12, min=1), FloatSlider(value=0.01, description=…"
      ]
     },
     "metadata": {},
     "output_type": "display_data"
    }
   ],
   "source": [
    "N = 512\n",
    "H = 1.25\n",
    "x = np.linspace(-H, H, num=N)\n",
    "X, Y = np.meshgrid(x, x)\n",
    "\n",
    "εcav = [-1.5, -1.3, -1.2, -1.1, -0.9, -0.8] \n",
    "δrange = np.linspace(0.01,0.1,10)\n",
    "mrange = np.linspace(1,12,12, dtype=int)\n",
    "from ipywidgets import interact \n",
    "\n",
    "from functools import lru_cache\n",
    "\n",
    "@lru_cache\n",
    "def calc(m, δ, ε):\n",
    "    η = ε_to_η(ε)\n",
    "    if ε < -1:\n",
    "        data = np.load(f\"../data/eps_{ε}.npz\")\n",
    "        pla = data[\"plasmon\"]\n",
    "        k0 = pla[m - 1, 1] \n",
    "    else:\n",
    "        data = np.load(f\"../data/eps_{-ε-2}.npz\")\n",
    "        pla = data[\"plasmon\"]\n",
    "        k0 = pla[m - 1, 1] \n",
    "\n",
    "    UU0 = np.abs(field_xy(η, k0, scattered_field_m, X, Y))\n",
    "    UUp = np.abs(field_xy(η, k0+ δ, scattered_field_m, X, Y))\n",
    "    UUm  = np.abs(field_xy(η, k0-δ, scattered_field_m, X, Y))\n",
    "    return UU0, UUp, UUm, k0\n",
    "\n",
    "\n",
    "@interact\n",
    "def interact_plot_scattering(m:(1,12,1)=6, δ:(0.01, 0.1, 0.01)=0.01, ε = εcav):\n",
    "    UU0, UUp, UUm, k0 = calc(m, δ, ε)\n",
    "        \n",
    "    plt.rcParams.update(set_rcParams(font_size=20, line_width=1))\n",
    "    fig, (ax1, ax2, ax3) = plt.subplots(1,3, figsize = (30,10))\n",
    "    Um_max = UUm.max()\n",
    "    imm = ax1.pcolormesh(X, Y, UUm, shading=\"auto\", vmin=0, vmax=Um_max)\n",
    "    U0_max = UU0.max()\n",
    "    im0 = ax2.pcolormesh(X, Y, UU0, shading=\"auto\", vmin=0, vmax=U0_max)\n",
    "    Up_max = UUp.max()\n",
    "    imp = ax3.pcolormesh(X, Y, UUp, shading=\"auto\", vmin=0, vmax=Up_max)\n",
    "    fig.colorbar(imm, ax=ax1)\n",
    "    fig.colorbar(im0, ax=ax2)\n",
    "    fig.colorbar(imp, ax=ax3)\n",
    "\n",
    "    ax1.set_aspect(\"equal\", \"box\")\n",
    "    ax1.set_xticks([])\n",
    "    ax1.set_yticks([])\n",
    "    ax1.set_title(f\"k-{δ}\")\n",
    "\n",
    "    ax2.set_aspect(\"equal\", \"box\")\n",
    "    ax2.set_xticks([])\n",
    "    ax2.set_yticks([])\n",
    "    ax2.set_title(f\"k = {k0}\")\n",
    "\n",
    "    ax3.set_aspect(\"equal\", \"box\")\n",
    "    ax3.set_xticks([])\n",
    "    ax3.set_yticks([])\n",
    "    ax3.set_title(f\"k+{δ}\")"
   ]
  },
  {
   "cell_type": "markdown",
   "id": "stuffed-voice",
   "metadata": {},
   "source": [
    "# Stability constant"
   ]
  },
  {
   "cell_type": "code",
   "execution_count": 3,
   "id": "seven-forwarding",
   "metadata": {},
   "outputs": [
    {
     "data": {
      "application/vnd.jupyter.widget-view+json": {
       "model_id": "ebda8cb34c4449c280e87b554da7f8c9",
       "version_major": 2,
       "version_minor": 0
      },
      "text/plain": [
       "interactive(children=(Dropdown(description='ε1', options=(-1.5, -1.3, -1.2, -1.1, -0.9, -0.8, -0.75, -0.7), va…"
      ]
     },
     "metadata": {},
     "output_type": "display_data"
    }
   ],
   "source": [
    "εcav = [-1.5, -1.3, -1.2, -1.1, -0.9, -0.8, -0.75, -0.7] \n",
    "kMin = 0.01\n",
    "kMax = 5\n",
    "T = 2\n",
    "                                    \n",
    "@interact\n",
    "def interact_plot_stability(ε1 = εcav, ε2 = εcav, m:(1,12,2)=4):                               \n",
    "    data1 = np.load(f\"../data/eps_{ε1}.npz\")\n",
    "    data2 = np.load(f\"../data/eps_{ε2}.npz\")\n",
    "\n",
    "    vk1_ = sample_geo(kMin, kMax, 60, data1[\"plasmon\"][:, 1], 3, 0.25)\n",
    "    vk2_ = sample_geo(kMin, kMax, 60, data2[\"plasmon\"][:, 1], 3, 0.25)\n",
    "    \n",
    "    if ε1 < -1:\n",
    "        vk1 = vk1_\n",
    "    else:\n",
    "        vk1 = np.linspace(kMin, kMax, num=np.size(vk1_, 0))\n",
    "    vn1 = calc_response(ε1, vk1, T)\n",
    "    if ε2 < -1:\n",
    "        vk2 = vk2_\n",
    "    else:\n",
    "        vk2 = np.linspace(kMin, kMax, num=np.size(vk2_, 0))\n",
    "    vn2 = calc_response(ε2, vk2, T)\n",
    "    \n",
    "    plt.rcParams.update(set_rcParams(font_size=20, line_width=1.5))\n",
    "    fig, (ax1, ax2) = plt.subplots(1,2, figsize = (10,5))\n",
    "    ax1.semilogy(vk1, vn1, \"C1\", label=fr\"$\\varepsilon_{{\\mathsf{{c}}}} = {ε1}$\")\n",
    "    ax2.semilogy(vk2, vn2, \"C1\", label=fr\"$\\varepsilon_{{\\mathsf{{c}}}} = {ε2}$\")\n",
    "    \n",
    "    Pla1 = data1[\"plasmon\"]\n",
    "    Im1 = Pla1[:, 0].astype(int)\n",
    "    ind1 = np.where(Im1 == abs(m))[0]\n",
    "    k1 = Pla1[ind1,1]\n",
    "    ax1.plot([k1, k1], [0., 1], \"C0--\")\n",
    "    ax1.text(k1, 0.03, fr\"$k_{m}$\", ha=\"center\", va=\"top\", color=\"C0\")\n",
    "    \n",
    "    Pla2 = data2[\"plasmon\"]\n",
    "    Im2 = Pla2[:, 0].astype(int)\n",
    "    ind2 = np.where(Im2 == abs(m))[0]\n",
    "    k2 = Pla2[ind2, 1]\n",
    "    ax2.plot([k2, k2], [0.0, 1], \"C0--\")\n",
    "    ax2.text(k2, 0.03, fr\"$k_{m}$\", ha=\"center\", va=\"top\", color=\"C0\")\n",
    "\n",
    "    ax1.set_xlim(0, kMax)\n",
    "    ax1.set_ylim(1e-1, 3e5)\n",
    "    ax1.grid(True)\n",
    "    ax1.legend(loc=2)\n",
    "    ax2.set_xlim(0, kMax)\n",
    "    ax2.set_ylim(1e-1, 3e5)\n",
    "    ax2.grid(True)\n",
    "    ax2.legend(loc=2)"
   ]
  },
  {
   "cell_type": "code",
   "execution_count": null,
   "id": "marine-picking",
   "metadata": {},
   "outputs": [],
   "source": []
  }
 ],
 "metadata": {
  "kernelspec": {
   "display_name": "Python 3",
   "language": "python",
   "name": "python3"
  },
  "language_info": {
   "codemirror_mode": {
    "name": "ipython",
    "version": 3
   },
   "file_extension": ".py",
   "mimetype": "text/x-python",
   "name": "python",
   "nbconvert_exporter": "python",
   "pygments_lexer": "ipython3",
   "version": "3.8.5"
  }
 },
 "nbformat": 4,
 "nbformat_minor": 5
}
