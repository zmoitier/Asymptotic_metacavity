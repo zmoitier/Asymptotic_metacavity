{
 "cells": [
  {
   "cell_type": "markdown",
   "id": "7aae001f-0591-4226-a4a6-0332bd271cdd",
   "metadata": {},
   "source": [
    "# Symbolic computation of the asymptotic expansion for a disk with constant $\\varepsilon_{\\mathsf{c}}$\n",
    "\n",
    "The codes below are associated to the article:\n",
    "\n",
    "- C. Carvalho and Z. Moitier, _Asymptotics for metamaterial cavities and their effect on scattering_ [[arXiv](https://arxiv.org/abs/2010.07583), [HAL](https://hal.archives-ouvertes.fr/hal-02965993)]\n",
    "\n",
    "## Zoïs Moitier, Camille Carvalho (2021)\n",
    "            \n",
    "_Karlsruhe Institute of Technology, Germany_\n",
    "\n",
    "_University of California Merced, USA_"
   ]
  },
  {
   "cell_type": "code",
   "execution_count": 1,
   "id": "6513a0f3-9326-4c10-b3df-2b1aa68d3fc0",
   "metadata": {},
   "outputs": [],
   "source": [
    "import sympy as sy\n",
    "from IPython.display import display\n",
    "\n",
    "from core import *"
   ]
  },
  {
   "cell_type": "code",
   "execution_count": 2,
   "id": "996994e2-d58b-4c55-9843-5ea10dfe9a71",
   "metadata": {},
   "outputs": [],
   "source": [
    "order = 1\n",
    "q = order - 1"
   ]
  },
  {
   "cell_type": "code",
   "execution_count": 3,
   "id": "6ca49c0b-38c6-4a90-a373-15979501ec55",
   "metadata": {},
   "outputs": [],
   "source": [
    "h, η = sy.symbols(\"h η\", real=True, positive=True)\n",
    "σ = sy.symbols(\"σ\", real=True)"
   ]
  },
  {
   "cell_type": "code",
   "execution_count": 4,
   "id": "e472db39-d3d6-451d-8e7f-f03c7e98872a",
   "metadata": {},
   "outputs": [],
   "source": [
    "Λn = sy.symbols(f\"Λ_0:{order}\", real=True)\n",
    "Λ = formal_expan(Λn, h, order)\n",
    "\n",
    "φn = sy.symbols(f\"φ_0:{order}\", cls=sy.Function)\n",
    "φ = formal_expan(apply_var(φn, σ), h, order)\n",
    "\n",
    "ψn = sy.symbols(f\"ψ_0:{order}\", cls=sy.Function)\n",
    "ψ = formal_expan(apply_var(ψn, σ), h, order)"
   ]
  },
  {
   "cell_type": "code",
   "execution_count": 5,
   "id": "c6f9dfb1-0fde-40e4-974d-186439561e05",
   "metadata": {},
   "outputs": [],
   "source": [
    "def dσ_neg(expr):\n",
    "    return expr.diff(σ)\n",
    "\n",
    "\n",
    "def dσ_pos(expr):\n",
    "    return expr.diff(σ)"
   ]
  },
  {
   "cell_type": "code",
   "execution_count": 6,
   "id": "e53b5217-3124-49c6-bd6e-db33d0d2c53d",
   "metadata": {},
   "outputs": [],
   "source": [
    "iε = inv_ε_expan((η,), σ, h, order)\n",
    "f_neg, 𝓛_neg = op_disk(iε, dσ_neg, σ, h, order)\n",
    "f_pos, 𝓛_pos = op_disk(1, dσ_pos, σ, h, order)"
   ]
  },
  {
   "cell_type": "markdown",
   "id": "10f4db5c-bd66-4eb9-b3af-16b8e2f1424f",
   "metadata": {},
   "source": [
    "## $\\mathcal{L}^- \\varphi = \\Lambda \\varphi$"
   ]
  },
  {
   "cell_type": "code",
   "execution_count": 7,
   "id": "80fbf58b-f6b6-40e9-a5f9-63f5eac5f4fc",
   "metadata": {},
   "outputs": [
    {
     "data": {
      "text/latex": [
       "$\\displaystyle - \\frac{\\operatorname{φ_{0}}{\\left(σ \\right)}}{η^{2}} + \\frac{\\frac{d^{2}}{d σ^{2}} \\operatorname{φ_{0}}{\\left(σ \\right)}}{η^{2}} = Λ_{0} \\operatorname{φ_{0}}{\\left(σ \\right)}$"
      ],
      "text/plain": [
       "Eq(-φ_0(σ)/η**2 + Derivative(φ_0(σ), (σ, 2))/η**2, Λ_0*φ_0(σ))"
      ]
     },
     "metadata": {},
     "output_type": "display_data"
    }
   ],
   "source": [
    "display(\n",
    "    sy.Eq(\n",
    "        𝓛_neg.subs(f_neg(σ), φ).doit().expand().coeff(h, q),\n",
    "        (Λ * φ).expand().coeff(h, q),\n",
    "    )\n",
    ")"
   ]
  },
  {
   "cell_type": "markdown",
   "id": "86aa35a2-9fc9-4447-b014-a010791b13d1",
   "metadata": {},
   "source": [
    "## $\\mathcal{L}^+ \\varphi = \\Lambda \\varphi$"
   ]
  },
  {
   "cell_type": "code",
   "execution_count": 8,
   "id": "c62329bb-4609-4591-b251-d33ee6ff6381",
   "metadata": {},
   "outputs": [
    {
     "data": {
      "text/latex": [
       "$\\displaystyle \\operatorname{ψ_{0}}{\\left(σ \\right)} - \\frac{d^{2}}{d σ^{2}} \\operatorname{ψ_{0}}{\\left(σ \\right)} = Λ_{0} \\operatorname{ψ_{0}}{\\left(σ \\right)}$"
      ],
      "text/plain": [
       "Eq(ψ_0(σ) - Derivative(ψ_0(σ), (σ, 2)), Λ_0*ψ_0(σ))"
      ]
     },
     "metadata": {},
     "output_type": "display_data"
    }
   ],
   "source": [
    "display(\n",
    "    sy.Eq(\n",
    "        𝓛_pos.subs(f_pos(σ), ψ).doit().expand().coeff(h, q),\n",
    "        (Λ * ψ).expand().coeff(h, q),\n",
    "    )\n",
    ")"
   ]
  },
  {
   "cell_type": "markdown",
   "id": "a4af4b98-c1e2-4dd2-98c5-5c079ea5c0a5",
   "metadata": {},
   "source": [
    "## $[u] = 0$"
   ]
  },
  {
   "cell_type": "code",
   "execution_count": 9,
   "id": "71cf7716-4e2f-4c31-9f83-6e665378d1de",
   "metadata": {},
   "outputs": [
    {
     "data": {
      "text/latex": [
       "$\\displaystyle \\operatorname{φ_{0}}{\\left(0 \\right)} = \\operatorname{ψ_{0}}{\\left(0 \\right)}$"
      ],
      "text/plain": [
       "Eq(φ_0(0), ψ_0(0))"
      ]
     },
     "metadata": {},
     "output_type": "display_data"
    }
   ],
   "source": [
    "display(sy.Eq(φ.subs(σ, 0).coeff(h, q), ψ.subs(σ, 0).coeff(h, q)))"
   ]
  },
  {
   "cell_type": "markdown",
   "id": "fe53e260-d837-40ca-a927-c187e0ddc25b",
   "metadata": {},
   "source": [
    "## $ [\\varepsilon^{-1} \\partial u] = 0 $"
   ]
  },
  {
   "cell_type": "code",
   "execution_count": 10,
   "id": "8982744e-d83e-4943-a9d9-18e4aa65f48e",
   "metadata": {},
   "outputs": [
    {
     "data": {
      "text/latex": [
       "$\\displaystyle - \\frac{\\left. \\frac{d}{d σ} \\operatorname{φ_{0}}{\\left(σ \\right)} \\right|_{\\substack{ σ=0 }}}{η^{2}} = \\left. \\frac{d}{d σ} \\operatorname{ψ_{0}}{\\left(σ \\right)} \\right|_{\\substack{ σ=0 }}$"
      ],
      "text/plain": [
       "Eq(-Subs(Derivative(φ_0(σ), σ), σ, 0)/η**2, Subs(Derivative(ψ_0(σ), σ), σ, 0))"
      ]
     },
     "metadata": {},
     "output_type": "display_data"
    }
   ],
   "source": [
    "display(\n",
    "    sy.Eq(\n",
    "        -(η ** (-2)) * dσ_neg(φ).expand().coeff(h, q).subs(σ, 0),\n",
    "        dσ_pos(ψ).subs(σ, 0).coeff(h, q),\n",
    "    )\n",
    ")"
   ]
  }
 ],
 "metadata": {
  "kernelspec": {
   "display_name": "Python 3",
   "language": "python",
   "name": "python3"
  },
  "language_info": {
   "codemirror_mode": {
    "name": "ipython",
    "version": 3
   },
   "file_extension": ".py",
   "mimetype": "text/x-python",
   "name": "python",
   "nbconvert_exporter": "python",
   "pygments_lexer": "ipython3",
   "version": "3.8.6"
  }
 },
 "nbformat": 4,
 "nbformat_minor": 5
}
