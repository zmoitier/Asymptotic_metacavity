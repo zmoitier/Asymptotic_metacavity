{
 "cells": [
  {
   "cell_type": "markdown",
   "id": "7aae001f-0591-4226-a4a6-0332bd271cdd",
   "metadata": {},
   "source": [
    "# Symbolic computation of the asymptotic expansion for a disk with constant $\\varepsilon_{\\mathsf{c}}$\n",
    "\n",
    "The codes below are associated to the article:\n",
    "\n",
    "- C. Carvalho and Z. Moitier, _Asymptotics for metamaterial cavities and their effect on scattering_ [[arXiv](https://arxiv.org/abs/2010.07583), [HAL](https://hal.archives-ouvertes.fr/hal-02965993)]\n",
    "\n",
    "## Zoïs Moitier, Camille Carvalho (2021)\n",
    "            \n",
    "_Karlsruhe Institute of Technology, Germany_\n",
    "\n",
    "_University of California Merced, USA_"
   ]
  },
  {
   "cell_type": "code",
   "execution_count": 1,
   "id": "6513a0f3-9326-4c10-b3df-2b1aa68d3fc0",
   "metadata": {},
   "outputs": [],
   "source": [
    "import sympy as sy\n",
    "from IPython.display import display\n",
    "\n",
    "from core import *"
   ]
  },
  {
   "cell_type": "code",
   "execution_count": 2,
   "id": "996994e2-d58b-4c55-9843-5ea10dfe9a71",
   "metadata": {},
   "outputs": [],
   "source": [
    "order = 4"
   ]
  },
  {
   "cell_type": "code",
   "execution_count": 3,
   "id": "6ca49c0b-38c6-4a90-a373-15979501ec55",
   "metadata": {},
   "outputs": [],
   "source": [
    "h, η = sy.symbols(\"h η\", real=True, positive=True)\n",
    "σ = sy.symbols(\"σ\", real=True)"
   ]
  },
  {
   "cell_type": "code",
   "execution_count": 4,
   "id": "e472db39-d3d6-451d-8e7f-f03c7e98872a",
   "metadata": {},
   "outputs": [],
   "source": [
    "def dσ_neg(expr):\n",
    "    return expr.diff(σ) + η * expr\n",
    "\n",
    "\n",
    "def dσ_pos(expr):\n",
    "    return expr.diff(σ) - expr / η"
   ]
  },
  {
   "cell_type": "code",
   "execution_count": 5,
   "id": "6e6ca44e-7178-49e6-b3e4-dba28a979a9b",
   "metadata": {},
   "outputs": [],
   "source": [
    "iε = inv_ε_expan((η,), σ, h, order)\n",
    "f_neg, 𝓛_neg = op_disk(iε, dσ_neg, σ, h, order)\n",
    "f_pos, 𝓛_pos = op_disk(1, dσ_pos, σ, h, order)"
   ]
  },
  {
   "cell_type": "code",
   "execution_count": 6,
   "id": "9b8430a6-9ac0-47a5-b095-4a96e1d071ff",
   "metadata": {},
   "outputs": [],
   "source": [
    "Λ_ = sy.symbols(\"Λ\", real=True)\n",
    "Λ = (1 - η ** (-2)).factor() + Λ_ * h\n",
    "P = 0 * σ + 1\n",
    "Q = 0 * σ + 1"
   ]
  },
  {
   "cell_type": "code",
   "execution_count": 7,
   "id": "6d63c2e8-48f2-4bb3-bc98-d2f17003b327",
   "metadata": {},
   "outputs": [],
   "source": [
    "ldφ = [0 for _ in range(order)]\n",
    "ldψ = [0 for _ in range(order)]"
   ]
  },
  {
   "cell_type": "code",
   "execution_count": 8,
   "id": "b5b74c5e-6dd1-43aa-8ace-494fabd23367",
   "metadata": {},
   "outputs": [
    {
     "data": {
      "text/latex": [
       "$\\displaystyle \\frac{\\left(η - 1\\right) \\left(η + 1\\right)}{η^{2}}$"
      ],
      "text/plain": [
       "(η - 1)*(η + 1)/η**2"
      ]
     },
     "metadata": {},
     "output_type": "display_data"
    }
   ],
   "source": [
    "display((1 - η ** (-2)).factor())"
   ]
  },
  {
   "cell_type": "code",
   "execution_count": 9,
   "id": "147f17f3-e685-4af2-96f5-8f96c3a4998f",
   "metadata": {},
   "outputs": [
    {
     "data": {
      "text/latex": [
       "$\\displaystyle - \\frac{\\left(η - 1\\right)^{2} \\left(η + 1\\right)^{2}}{η^{3}}$"
      ],
      "text/plain": [
       "-(η - 1)**2*(η + 1)**2/η**3"
      ]
     },
     "metadata": {},
     "output_type": "display_data"
    },
    {
     "data": {
      "text/latex": [
       "$\\displaystyle - \\frac{\\left(η - 1\\right) \\left(η + 1\\right) \\left(η^{4} + 1\\right) \\left(η^{4} - η^{2} + 1\\right)}{2 η^{6}}$"
      ],
      "text/plain": [
       "-(η - 1)*(η + 1)*(η**4 + 1)*(η**4 - η**2 + 1)/(2*η**6)"
      ]
     },
     "metadata": {},
     "output_type": "display_data"
    },
    {
     "data": {
      "text/latex": [
       "$\\displaystyle - \\frac{\\left(η - 1\\right)^{2} \\left(η + 1\\right)^{2} \\left(10 η^{12} - 2 η^{10} + 7 η^{8} - 2 η^{6} + 7 η^{4} - 2 η^{2} + 10\\right)}{8 η^{9}}$"
      ],
      "text/plain": [
       "-(η - 1)**2*(η + 1)**2*(10*η**12 - 2*η**10 + 7*η**8 - 2*η**6 + 7*η**4 - 2*η**2 + 10)/(8*η**9)"
      ]
     },
     "metadata": {},
     "output_type": "display_data"
    }
   ],
   "source": [
    "for n in range(1, order):\n",
    "    # Compute solution for φ\n",
    "    eq_φ = ((η ** 2) * (𝓛_neg.subs(f_neg(σ), P).doit() - Λ * P)).expand()\n",
    "    Sφ = eq_φ.coeff(h, n)\n",
    "    ldφ[n], sol_φ = solve_exp(η, σ, Sφ)\n",
    "\n",
    "    # Compute solution for ψ\n",
    "    eq_ψ = (-(𝓛_pos.subs(f_pos(σ), Q).doit() - Λ * Q)).expand()\n",
    "    Sψ = eq_ψ.coeff(h, n)\n",
    "    ldψ[n], sol_ψ = solve_exp(-1 / η, σ, Sψ)\n",
    "\n",
    "    # Compute Λ\n",
    "    cφ = (-dσ_neg(sol_φ).subs(σ, 0) / η ** 2).expand()\n",
    "    cψ = dσ_pos(sol_ψ).subs(σ, 0)\n",
    "\n",
    "    Λn = sy.solve(sy.Eq(cφ, cψ), Λ_)[0].factor()\n",
    "    # print(sy.horner(Λn.expand()))\n",
    "    display(Λn)\n",
    "\n",
    "    # Subs\n",
    "    Λ = Λ.subs(Λ_, Λn) + Λ_ * h ** (n + 1)\n",
    "    P += sol_φ.subs(Λ_, Λn).factor() * h ** n\n",
    "    Q += sol_ψ.subs(Λ_, Λn).factor() * h ** n"
   ]
  }
 ],
 "metadata": {
  "kernelspec": {
   "display_name": "Python 3",
   "language": "python",
   "name": "python3"
  },
  "language_info": {
   "codemirror_mode": {
    "name": "ipython",
    "version": 3
   },
   "file_extension": ".py",
   "mimetype": "text/x-python",
   "name": "python",
   "nbconvert_exporter": "python",
   "pygments_lexer": "ipython3",
   "version": "3.8.6"
  }
 },
 "nbformat": 4,
 "nbformat_minor": 5
}
