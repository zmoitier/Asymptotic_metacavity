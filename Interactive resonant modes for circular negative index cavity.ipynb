{
 "cells": [
  {
   "cell_type": "markdown",
   "id": "artistic-budget",
   "metadata": {},
   "source": [
    "# Scattering resonances for a circular metamaterial cavity\n",
    "\n",
    "The codes below are associated to the article:\n",
    "\n",
    "- C. Carvalho and Z. Moitier, _Asymptotics for metamaterial cavities and their effect on scattering_ [[arXiv](https://arxiv.org/abs/2010.07583), [HAL](https://hal.archives-ouvertes.fr/hal-02965993)]\n",
    "\n",
    "We present computations related to Section 3 and Appendix C of the manuscript.\n",
    "\n",
    "## Zoïs Moitier, Camille Carvalho (2021)\n",
    "            \n",
    "_Karlsruhe Institute of Technology, Germany_\n",
    "\n",
    "_University of California Merced, USA_"
   ]
  },
  {
   "cell_type": "code",
   "execution_count": 1,
   "id": "racial-kidney",
   "metadata": {},
   "outputs": [],
   "source": [
    "import matplotlib.pyplot as plt\n",
    "import numpy as np\n",
    "from ipywidgets import interact, widgets\n",
    "from matplotlib.colors import Normalize, SymLogNorm\n",
    "\n",
    "import src\n",
    "\n",
    "%matplotlib inline"
   ]
  },
  {
   "cell_type": "markdown",
   "id": "black-sweet",
   "metadata": {},
   "source": [
    "## Internal functions"
   ]
  },
  {
   "cell_type": "code",
   "execution_count": 2,
   "id": "e23949a1-5cd8-4a07-824c-d2b0a1e7502b",
   "metadata": {},
   "outputs": [],
   "source": [
    "def parse_data(data):\n",
    "    return (data[:, 0].astype(int), np.power(data[:, 1] + 1j * data[:, 2], 2))"
   ]
  },
  {
   "cell_type": "code",
   "execution_count": 3,
   "id": "06e7c578-e29f-4591-9f71-1f07a40398d6",
   "metadata": {},
   "outputs": [],
   "source": [
    "def plot_scatter(ax, m, λ, M, lw, marker, zorder, label):\n",
    "    ind = np.where(np.less_equal(m, M))\n",
    "\n",
    "    sc = ax.scatter(\n",
    "        np.real(λ[ind]),\n",
    "        np.imag(λ[ind]),\n",
    "        s=15,\n",
    "        lw=lw,\n",
    "        c=m[ind],\n",
    "        marker=marker,\n",
    "        zorder=zorder,\n",
    "        vmin=0,\n",
    "        vmax=M,\n",
    "        label=label,\n",
    "    )\n",
    "    return sc"
   ]
  },
  {
   "cell_type": "code",
   "execution_count": 4,
   "id": "industrial-intervention",
   "metadata": {},
   "outputs": [],
   "source": [
    "def plot_λ(ε, M, ax, xlim=None, ylim=None):\n",
    "    η = np.sqrt(-ε)\n",
    "\n",
    "    data = np.load(f\"data/eps_{ε}.npz\")\n",
    "    m_out, λ_out = parse_data(data[\"outer\"])\n",
    "    m_inn, λ_inn = parse_data(data[\"inner\"])\n",
    "    m_pla, λ_pla = parse_data(data[\"plasmon\"])\n",
    "\n",
    "    _ = plot_scatter(ax, m_out, λ_out, M, 0, \"v\", 2, r\"$\\mathcal{R}_{\\mathsf{out}}$\")\n",
    "    sc_inn = plot_scatter(\n",
    "        ax, m_inn, λ_inn, M, 0.1, \".\", 3, r\"$\\mathcal{R}_{\\mathsf{inn}}$\"\n",
    "    )\n",
    "    _ = plot_scatter(ax, m_pla, λ_pla, M, 0.5, \"+\", 4, r\"$\\mathcal{R}_{\\mathsf{pla}}$\")\n",
    "\n",
    "    if xlim is not None:\n",
    "        ax.set_xlim(*xlim)\n",
    "    if ylim is not None:\n",
    "        ax.set_ylim(*ylim)\n",
    "\n",
    "    ax.set_xlabel(r\"$\\Re(\\ell^2)$\")\n",
    "    ax.set_ylabel(r\"$\\Im(\\ell^2)$\")\n",
    "\n",
    "    ax.grid(True, zorder=1)\n",
    "    ax.legend(\n",
    "        loc=\"lower center\",\n",
    "        bbox_to_anchor=(0.5, 1.025),\n",
    "        ncol=3,\n",
    "        borderaxespad=0.0,\n",
    "        handlelength=0,\n",
    "        markerscale=2,\n",
    "    )\n",
    "    ax.set_title(f\"ε = {ε}\", y=1.125)\n",
    "\n",
    "    return sc_inn"
   ]
  },
  {
   "cell_type": "markdown",
   "id": "3b52a6ca-e088-4e60-91ed-8dfa3a30de3c",
   "metadata": {},
   "source": [
    "## Scattering resonances"
   ]
  },
  {
   "cell_type": "code",
   "execution_count": 5,
   "id": "c7a941d2-cd99-41b6-b7f0-5a6f98814c57",
   "metadata": {},
   "outputs": [
    {
     "data": {
      "application/vnd.jupyter.widget-view+json": {
       "model_id": "6992f91909f046d0845528a9329d136b",
       "version_major": 2,
       "version_minor": 0
      },
      "text/plain": [
       "interactive(children=(IntSlider(value=64, description='M', max=64, min=1, step=6), Dropdown(description='ε lef…"
      ]
     },
     "metadata": {},
     "output_type": "display_data"
    }
   ],
   "source": [
    "εcav = [-1.5, -1.3, -1.2, -1.1, -0.9, -0.8, -0.75, -0.7]\n",
    "\n",
    "\n",
    "@interact\n",
    "def interact_plot_resonances(\n",
    "    M: (1, 64, 6) = 64,\n",
    "    ε1=widgets.Dropdown(options=εcav, value=-1.1, description=\"ε left\"),\n",
    "    ε2=widgets.Dropdown(options=εcav, value=-0.9, description=\"ε right\"),\n",
    "    xmin=\"insert number\",\n",
    "    xmax=\"insert number\",\n",
    "    ymin=\"insert number\",\n",
    "    ymax=\"insert number\",\n",
    "):\n",
    "    if src.is_number(xmin) and src.is_number(xmax):\n",
    "        xlim = (float(xmin), float(xmax))\n",
    "    else:\n",
    "        xlim = None\n",
    "\n",
    "    if src.is_number(ymin) and src.is_number(ymax):\n",
    "        ylim = (float(ymin), float(ymax))\n",
    "    else:\n",
    "        ylim = None\n",
    "\n",
    "    plt.rcParams.update(src.set_rcParams(font_size=15))\n",
    "    fig, ax = plt.subplots(\n",
    "        ncols=2,\n",
    "        figsize=src.set_size(frac_width=2, frac_height=0.5),\n",
    "        constrained_layout=True,\n",
    "    )\n",
    "\n",
    "    sc1 = plot_λ(ε1, M, ax[0], xlim=xlim, ylim=ylim)\n",
    "    sc2 = plot_λ(ε2, M, ax[1], xlim=ylim, ylim=ylim)\n",
    "\n",
    "    cbar = fig.colorbar(sc1, ax=ax[0])\n",
    "    cbar.set_label(r\"$m$\")\n",
    "\n",
    "    cbar = fig.colorbar(sc2, ax=ax[1])\n",
    "    cbar.set_label(r\"$m$\")\n",
    "\n",
    "    return None"
   ]
  }
 ],
 "metadata": {
  "kernelspec": {
   "display_name": "Python 3",
   "language": "python",
   "name": "python3"
  },
  "language_info": {
   "codemirror_mode": {
    "name": "ipython",
    "version": 3
   },
   "file_extension": ".py",
   "mimetype": "text/x-python",
   "name": "python",
   "nbconvert_exporter": "python",
   "pygments_lexer": "ipython3",
   "version": "3.8.6"
  }
 },
 "nbformat": 4,
 "nbformat_minor": 5
}
