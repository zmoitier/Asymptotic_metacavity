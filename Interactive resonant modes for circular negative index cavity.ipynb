{
 "cells": [
  {
   "cell_type": "markdown",
   "id": "artistic-budget",
   "metadata": {},
   "source": [
    "# Scattering resonances for a circular metamaterial cavity\n",
    "\n",
    "The codes below are associated to the article:\n",
    "\n",
    "- C. Carvalho and Z. Moitier, _Asymptotics for metamaterial cavities and their effect on scattering_ [[arXiv](https://arxiv.org/abs/2010.07583), [HAL](https://hal.archives-ouvertes.fr/hal-02965993)]\n",
    "\n",
    "We present computations related to Section 3 and Appendix C of the manuscript.\n",
    "\n",
    "## Zoïs Moitier, Camille Carvalho (2021)\n",
    "            \n",
    "_Karlsruhe Institute of Technology, Germany_\n",
    "\n",
    "_University of California Merced, USA_"
   ]
  },
  {
   "cell_type": "code",
   "execution_count": 1,
   "id": "racial-kidney",
   "metadata": {},
   "outputs": [],
   "source": [
    "import ipywidgets as widgets\n",
    "import matplotlib.pyplot as plt\n",
    "import numpy as np\n",
    "from matplotlib.colors import Normalize, SymLogNorm\n",
    "from scipy.special import hankel1, iv\n",
    "\n",
    "import src\n",
    "\n",
    "%matplotlib inline"
   ]
  },
  {
   "cell_type": "markdown",
   "id": "black-sweet",
   "metadata": {},
   "source": [
    "## Internal functions"
   ]
  },
  {
   "cell_type": "code",
   "execution_count": 2,
   "id": "06e7c578-e29f-4591-9f71-1f07a40398d6",
   "metadata": {},
   "outputs": [],
   "source": [
    "def plot_scatter(ax, m, λ, M, lw, marker, zorder, label):\n",
    "    sc = ax.scatter(\n",
    "        np.real(λ),\n",
    "        np.imag(λ),\n",
    "        s=15,\n",
    "        lw=lw,\n",
    "        c=m,\n",
    "        marker=marker,\n",
    "        zorder=zorder,\n",
    "        vmin=0,\n",
    "        vmax=M,\n",
    "        label=label,\n",
    "    )\n",
    "    return sc"
   ]
  },
  {
   "cell_type": "code",
   "execution_count": 3,
   "id": "industrial-intervention",
   "metadata": {},
   "outputs": [],
   "source": [
    "def plot_λ(ε, M, ax, xlim, ylim):\n",
    "    η = np.sqrt(-ε)\n",
    "\n",
    "    data = np.load(f\"data/eps_{ε}.npz\")\n",
    "    m_out, λ_out = src.parse_data_λ(data, \"outer\", M)\n",
    "    m_inn, λ_inn = src.parse_data_λ(data, \"inner\", M)\n",
    "    m_pla, λ_pla = src.parse_data_λ(data, \"plasmon\", M)\n",
    "\n",
    "    _ = plot_scatter(ax, m_out, λ_out, M, 0.5, \"v\", 2, r\"$\\mathcal{R}_{\\mathsf{out}}$\")\n",
    "    sc_inn = plot_scatter(\n",
    "        ax, m_inn, λ_inn, M, 0.2, \".\", 3, r\"$\\mathcal{R}_{\\mathsf{inn}}$\"\n",
    "    )\n",
    "    _ = plot_scatter(ax, m_pla, λ_pla, M, 1, \"+\", 4, r\"$\\mathcal{R}_{\\mathsf{pla}}$\")\n",
    "\n",
    "    ax.set_xlim(*xlim)\n",
    "    ax.set_ylim(*ylim)\n",
    "\n",
    "    ax.set_xlabel(r\"$\\Re(\\ell^2)$\")\n",
    "    ax.set_ylabel(r\"$\\Im(\\ell^2)$\")\n",
    "\n",
    "    ax.grid(True, zorder=1)\n",
    "    ax.legend(\n",
    "        loc=\"lower center\",\n",
    "        bbox_to_anchor=(0.5, 1.025),\n",
    "        ncol=3,\n",
    "        borderaxespad=0.0,\n",
    "        handlelength=0,\n",
    "        markerscale=2,\n",
    "    )\n",
    "    ax.set_title(f\"ε = {ε}\", y=1.125)\n",
    "\n",
    "    return sc_inn"
   ]
  },
  {
   "cell_type": "code",
   "execution_count": 4,
   "id": "c7a941d2-cd99-41b6-b7f0-5a6f98814c57",
   "metadata": {},
   "outputs": [],
   "source": [
    "def plot_resonances(M, ε1, ε2, xmin, xmax, ymin, ymax):\n",
    "    if src.is_number(xmin) and src.is_number(xmax):\n",
    "        xlim = (float(xmin), float(xmax))\n",
    "    else:\n",
    "        xlim = None\n",
    "\n",
    "    if src.is_number(ymin) and src.is_number(ymax):\n",
    "        ylim = (float(ymin), float(ymax))\n",
    "    else:\n",
    "        ylim = None\n",
    "\n",
    "    plt.rcParams.update(src.set_rcParams(font_size=15))\n",
    "    fig, ax = plt.subplots(\n",
    "        ncols=2,\n",
    "        figsize=src.set_size(frac_width=2, frac_height=0.5),\n",
    "        constrained_layout=True,\n",
    "    )\n",
    "\n",
    "    sc1 = plot_λ(ε1, M, ax[0], xlim=xlim, ylim=ylim)\n",
    "    sc2 = plot_λ(ε2, M, ax[1], xlim=xlim, ylim=ylim)\n",
    "\n",
    "    cbar = fig.colorbar(sc1, ax=ax[0])\n",
    "    cbar.set_label(r\"$m$\")\n",
    "\n",
    "    cbar = fig.colorbar(sc2, ax=ax[1])\n",
    "    cbar.set_label(r\"$m$\")\n",
    "\n",
    "    plt.show()\n",
    "\n",
    "    return None"
   ]
  },
  {
   "cell_type": "code",
   "execution_count": 5,
   "id": "9fbcbfb1-2b5e-4965-88cb-6accf8dc9bc4",
   "metadata": {},
   "outputs": [],
   "source": [
    "def calc_mode(η, m, k, R, T, N, Int, Ext):\n",
    "    U = np.empty((N, N), dtype=complex)\n",
    "    U[Int] = iv(m, η * k * R[Int]) / iv(m, η * k)\n",
    "    U[Ext] = hankel1(m, k * R[Ext]) / hankel1(m, k)\n",
    "    U *= np.exp(1j * m * T)\n",
    "    return U"
   ]
  },
  {
   "cell_type": "code",
   "execution_count": 6,
   "id": "96f49bed-4123-4ab3-93aa-0c7d18812e47",
   "metadata": {},
   "outputs": [],
   "source": [
    "def plot_mode(fig, ax, X, Y, U, name, Sym_Log_Norm=False):\n",
    "    u_max = np.abs(U).max()\n",
    "\n",
    "    if Sym_Log_Norm:\n",
    "        norm = SymLogNorm(1, vmin=-u_max, vmax=u_max, base=10)\n",
    "    else:\n",
    "        norm = Normalize(vmin=-u_max, vmax=u_max)\n",
    "\n",
    "    im = ax.pcolormesh(X, Y, np.real(U), shading=\"gouraud\", cmap=\"RdBu_r\", norm=norm)\n",
    "    ax.add_artist(plt.Circle((0, 0), 1, fill=False, ec=\"k\", lw=2, ls=\":\"))\n",
    "\n",
    "    ax.set_aspect(\"equal\", \"box\")\n",
    "    ax.set_title(name)\n",
    "    fig.colorbar(im, ax=ax)\n",
    "\n",
    "    return None"
   ]
  },
  {
   "cell_type": "code",
   "execution_count": 7,
   "id": "2a410e71-3aed-4f63-a93b-03b61cd1fbaa",
   "metadata": {},
   "outputs": [],
   "source": [
    "def plot_modes(η, m, k_out, q_out, k_inn, q_inn, k_pla):\n",
    "    plt.rcParams.update(src.set_rcParams(font_size=15))\n",
    "    fig, ax = plt.subplots(\n",
    "        ncols=3,\n",
    "        figsize=src.set_size(frac_width=2.5, frac_height=0.25),\n",
    "        constrained_layout=True,\n",
    "    )\n",
    "\n",
    "    h = np.linspace(-H, H, num=N)\n",
    "    X, Y = np.meshgrid(h, h)\n",
    "    R, T = np.hypot(X, Y), np.arctan2(Y, X)\n",
    "    Int, Ext = np.where(np.less(R, 1)), np.where(np.greater_equal(R, 1))\n",
    "\n",
    "    U_out = calc_mode(η, m, k_out[q_out], R, T, N, Int, Ext)\n",
    "    plot_mode(\n",
    "        fig, ax[0], X, Y, U_out, f\"outer, k = {k_out[q_out]:.1e}\", Sym_Log_Norm=True\n",
    "    )\n",
    "\n",
    "    U_inn = calc_mode(η, m, k_inn[q_inn], R, T, N, Int, Ext)\n",
    "    plot_mode(fig, ax[1], X, Y, U_inn, f\"inner, k = {k_inn[q_inn]:.1e}\")\n",
    "\n",
    "    if m > 0:\n",
    "        U_pla = calc_mode(η, m, k_pla[0], R, T, N, Int, Ext)\n",
    "        plot_mode(fig, ax[2], X, Y, U_pla, f\"plasmon, k = {k_pla[0]:.1e}\")\n",
    "\n",
    "    return None"
   ]
  },
  {
   "cell_type": "code",
   "execution_count": 8,
   "id": "e484fae6-d822-4f09-b9eb-95b0a64ddc96",
   "metadata": {},
   "outputs": [],
   "source": [
    "def plot_wavenumber(ε, m, H, N):\n",
    "    η = np.sqrt(-ε)\n",
    "\n",
    "    data = np.load(f\"data/eps_{ε}.npz\")\n",
    "    m_out, k_out = src.parse_data_k(data, \"outer\", m)\n",
    "    m_inn, k_inn = src.parse_data_k(data, \"inner\", m)\n",
    "    m_pla, k_pla = src.parse_data_k(data, \"plasmon\", m)\n",
    "\n",
    "    plt.rcParams.update(src.set_rcParams(font_size=15))\n",
    "    fig, ax = plt.subplots(\n",
    "        figsize=src.set_size(frac_width=1.25), constrained_layout=True\n",
    "    )\n",
    "\n",
    "    ax.plot(np.real(k_out), np.imag(k_out), \"C0v\", label=r\"$k_{\\mathsf{out}}$\")\n",
    "    ax.plot(np.real(k_inn), np.imag(k_inn), \"C1o\", label=r\"$k_{\\mathsf{inn}}$\")\n",
    "    ax.plot(np.real(k_pla), np.imag(k_pla), \"C2P\", label=r\"$k_{\\mathsf{pla}}$\")\n",
    "\n",
    "    xmin, xmax = ax.get_xlim()\n",
    "    if abs(xmax) < 1e-5:\n",
    "        xmax = 1\n",
    "        ax.set_xlim(-1, 1)\n",
    "\n",
    "    for i, k in enumerate(k_out):\n",
    "        plt.text(\n",
    "            k.real + 0.015 * xmax,\n",
    "            k.imag,\n",
    "            f\"{i}\",\n",
    "            ha=\"left\",\n",
    "            va=\"center\",\n",
    "            color=\"C0\",\n",
    "            fontsize=13,\n",
    "        )\n",
    "    for i, k in enumerate(k_inn):\n",
    "        plt.text(\n",
    "            k.real + 0.015 * xmax,\n",
    "            k.imag,\n",
    "            f\"{i}\",\n",
    "            ha=\"left\",\n",
    "            va=\"center\",\n",
    "            color=\"C1\",\n",
    "            fontsize=13,\n",
    "        )\n",
    "\n",
    "    ax.set_xlabel(r\"$\\Re(\\ell)$\")\n",
    "    ax.set_ylabel(r\"$\\Im(\\ell)$\")\n",
    "\n",
    "    ax.grid(True)\n",
    "    ax.legend()\n",
    "    ax.set_title(f\"ε = {ε}\")\n",
    "\n",
    "    q_out = widgets.IntSlider(\n",
    "        value=0, min=0, max=np.size(k_out, 0) - 1, step=1, description=\"q_out\"\n",
    "    )\n",
    "    q_out.style.handle_color = \"#1F77B4\"\n",
    "    q_inn = widgets.IntSlider(\n",
    "        value=0, min=0, max=np.size(k_inn, 0) - 1, step=1, description=\"q_inn\"\n",
    "    )\n",
    "    q_inn.style.handle_color = \"#FF7F0E\"\n",
    "\n",
    "    ui = widgets.HBox([q_out, q_inn])\n",
    "    out = widgets.interactive_output(\n",
    "        plot_modes,\n",
    "        {\n",
    "            \"η\": widgets.fixed(η),\n",
    "            \"m\": widgets.fixed(m),\n",
    "            \"k_out\": widgets.fixed(k_out),\n",
    "            \"q_out\": q_out,\n",
    "            \"k_inn\": widgets.fixed(k_inn),\n",
    "            \"q_inn\": q_inn,\n",
    "            \"k_pla\": widgets.fixed(k_pla),\n",
    "        },\n",
    "    )\n",
    "\n",
    "    display(ui, out)\n",
    "\n",
    "    return None"
   ]
  },
  {
   "cell_type": "markdown",
   "id": "3b52a6ca-e088-4e60-91ed-8dfa3a30de3c",
   "metadata": {},
   "source": [
    "## Scattering resonances"
   ]
  },
  {
   "cell_type": "code",
   "execution_count": 9,
   "id": "9b96040b-5b03-4e38-834c-b18a26127c5f",
   "metadata": {},
   "outputs": [
    {
     "data": {
      "application/vnd.jupyter.widget-view+json": {
       "model_id": "e49fb9a5c07f4bf9b8163cddf2de152c",
       "version_major": 2,
       "version_minor": 0
      },
      "text/plain": [
       "GridspecLayout(children=(IntSlider(value=64, description='M', layout=Layout(grid_area='widget001'), max=64, mi…"
      ]
     },
     "metadata": {},
     "output_type": "display_data"
    },
    {
     "data": {
      "application/vnd.jupyter.widget-view+json": {
       "model_id": "6ba1004813084e20a7e8c6276e059cc7",
       "version_major": 2,
       "version_minor": 0
      },
      "text/plain": [
       "Output()"
      ]
     },
     "metadata": {},
     "output_type": "display_data"
    }
   ],
   "source": [
    "εcav = [-1.5, -1.3, -1.2, -1.1, -0.9, -0.8, -0.75, -0.7]\n",
    "\n",
    "grid = widgets.GridspecLayout(2, 4)\n",
    "grid[0, 0] = widgets.IntSlider(value=64, min=1, max=64, step=1, description=\"M\")\n",
    "grid[0, 1] = widgets.Dropdown(options=εcav, value=-1.1, description=\"ε left\")\n",
    "grid[0, 2] = widgets.Dropdown(options=εcav, value=-0.9, description=\"ε right\")\n",
    "grid[1, 0] = widgets.FloatText(value=-1750, description=\"xmin\")\n",
    "grid[1, 1] = widgets.FloatText(value=750, description=\"xmax\")\n",
    "grid[1, 2] = widgets.FloatText(value=-700, description=\"ymin\")\n",
    "grid[1, 3] = widgets.FloatText(value=35, description=\"ymax\")\n",
    "\n",
    "out = widgets.interactive_output(\n",
    "    plot_resonances,\n",
    "    {\n",
    "        \"M\": grid[0, 0],\n",
    "        \"ε1\": grid[0, 1],\n",
    "        \"ε2\": grid[0, 2],\n",
    "        \"xmin\": grid[1, 0],\n",
    "        \"xmax\": grid[1, 1],\n",
    "        \"ymin\": grid[1, 2],\n",
    "        \"ymax\": grid[1, 3],\n",
    "    },\n",
    ")\n",
    "\n",
    "display(grid, out)"
   ]
  },
  {
   "cell_type": "markdown",
   "id": "aff740e0-1dbd-44f5-846f-1a2167c7aa4c",
   "metadata": {},
   "source": [
    "## Modes"
   ]
  },
  {
   "cell_type": "code",
   "execution_count": 10,
   "id": "480069b0-13e2-44d1-9ace-bc15a0055656",
   "metadata": {},
   "outputs": [
    {
     "data": {
      "application/vnd.jupyter.widget-view+json": {
       "model_id": "29e653fe590d44baa3a226b344542f6d",
       "version_major": 2,
       "version_minor": 0
      },
      "text/plain": [
       "HBox(children=(IntSlider(value=8, description='m', max=32), Dropdown(description='ε', index=3, options=(-1.5, …"
      ]
     },
     "metadata": {},
     "output_type": "display_data"
    },
    {
     "data": {
      "application/vnd.jupyter.widget-view+json": {
       "model_id": "4181e5c5d2a942d7b32455da4af10152",
       "version_major": 2,
       "version_minor": 0
      },
      "text/plain": [
       "Output()"
      ]
     },
     "metadata": {},
     "output_type": "display_data"
    }
   ],
   "source": [
    "m = widgets.IntSlider(value=8, min=0, max=32, step=1, description=\"m\")\n",
    "ε = widgets.Dropdown(options=εcav, value=-1.1, description=\"ε\")\n",
    "H = 1.25\n",
    "N = 128\n",
    "\n",
    "ui = widgets.HBox([m, ε])\n",
    "out = widgets.interactive_output(\n",
    "    plot_wavenumber, {\"m\": m, \"ε\": ε, \"H\": widgets.fixed(H), \"N\": widgets.fixed(N)}\n",
    ")\n",
    "\n",
    "display(ui, out)"
   ]
  }
 ],
 "metadata": {
  "kernelspec": {
   "display_name": "Python 3",
   "language": "python",
   "name": "python3"
  },
  "language_info": {
   "codemirror_mode": {
    "name": "ipython",
    "version": 3
   },
   "file_extension": ".py",
   "mimetype": "text/x-python",
   "name": "python",
   "nbconvert_exporter": "python",
   "pygments_lexer": "ipython3",
   "version": "3.8.6"
  }
 },
 "nbformat": 4,
 "nbformat_minor": 5
}
